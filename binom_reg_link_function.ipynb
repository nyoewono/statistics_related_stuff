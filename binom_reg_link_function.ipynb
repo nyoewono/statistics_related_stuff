{
 "cells": [
  {
   "cell_type": "code",
   "execution_count": 43,
   "metadata": {},
   "outputs": [],
   "source": [
    "import pandas as pd \n",
    "import numpy as np\n",
    "import statsmodels.api as sm\n",
    "from scipy.stats import norm\n",
    "import matplotlib.pyplot as plt"
   ]
  },
  {
   "cell_type": "markdown",
   "metadata": {},
   "source": [
    "# Binomial Regression"
   ]
  },
  {
   "cell_type": "markdown",
   "metadata": {},
   "source": [
    "### The aim of this notebook is to show how different log link function may affect the binomial regression result"
   ]
  },
  {
   "cell_type": "markdown",
   "metadata": {},
   "source": [
    "Note: This notebook will only show that there exist more than one link function for the binomial regression parameter, and how to use the model in python"
   ]
  },
  {
   "cell_type": "markdown",
   "metadata": {},
   "source": [
    "## Data"
   ]
  },
  {
   "cell_type": "markdown",
   "metadata": {},
   "source": [
    "The dataset that is used here is a toy dataset to simplify the demonstration."
   ]
  },
  {
   "cell_type": "code",
   "execution_count": 45,
   "metadata": {},
   "outputs": [
    {
     "data": {
      "text/html": [
       "<div>\n",
       "<style scoped>\n",
       "    .dataframe tbody tr th:only-of-type {\n",
       "        vertical-align: middle;\n",
       "    }\n",
       "\n",
       "    .dataframe tbody tr th {\n",
       "        vertical-align: top;\n",
       "    }\n",
       "\n",
       "    .dataframe thead th {\n",
       "        text-align: right;\n",
       "    }\n",
       "</style>\n",
       "<table border=\"1\" class=\"dataframe\">\n",
       "  <thead>\n",
       "    <tr style=\"text-align: right;\">\n",
       "      <th></th>\n",
       "      <th>buy_ice_cream</th>\n",
       "      <th>temp</th>\n",
       "    </tr>\n",
       "  </thead>\n",
       "  <tbody>\n",
       "    <tr>\n",
       "      <th>0</th>\n",
       "      <td>buy</td>\n",
       "      <td>40</td>\n",
       "    </tr>\n",
       "    <tr>\n",
       "      <th>1</th>\n",
       "      <td>buy</td>\n",
       "      <td>33</td>\n",
       "    </tr>\n",
       "    <tr>\n",
       "      <th>2</th>\n",
       "      <td>buy</td>\n",
       "      <td>30</td>\n",
       "    </tr>\n",
       "    <tr>\n",
       "      <th>3</th>\n",
       "      <td>buy</td>\n",
       "      <td>25</td>\n",
       "    </tr>\n",
       "    <tr>\n",
       "      <th>4</th>\n",
       "      <td>no</td>\n",
       "      <td>26</td>\n",
       "    </tr>\n",
       "    <tr>\n",
       "      <th>5</th>\n",
       "      <td>buy</td>\n",
       "      <td>23</td>\n",
       "    </tr>\n",
       "    <tr>\n",
       "      <th>6</th>\n",
       "      <td>no</td>\n",
       "      <td>15</td>\n",
       "    </tr>\n",
       "    <tr>\n",
       "      <th>7</th>\n",
       "      <td>no</td>\n",
       "      <td>12</td>\n",
       "    </tr>\n",
       "    <tr>\n",
       "      <th>8</th>\n",
       "      <td>no</td>\n",
       "      <td>10</td>\n",
       "    </tr>\n",
       "    <tr>\n",
       "      <th>9</th>\n",
       "      <td>no</td>\n",
       "      <td>3</td>\n",
       "    </tr>\n",
       "    <tr>\n",
       "      <th>10</th>\n",
       "      <td>no</td>\n",
       "      <td>2</td>\n",
       "    </tr>\n",
       "  </tbody>\n",
       "</table>\n",
       "</div>"
      ],
      "text/plain": [
       "   buy_ice_cream  temp\n",
       "0            buy    40\n",
       "1            buy    33\n",
       "2            buy    30\n",
       "3            buy    25\n",
       "4             no    26\n",
       "5            buy    23\n",
       "6             no    15\n",
       "7             no    12\n",
       "8             no    10\n",
       "9             no     3\n",
       "10            no     2"
      ]
     },
     "execution_count": 45,
     "metadata": {},
     "output_type": "execute_result"
    }
   ],
   "source": [
    "ice_cream = ['buy', 'buy', 'buy', 'buy', 'no', 'buy','no','no', 'no', 'no', 'no']\n",
    "temp = [40, 33, 30, 25, 26, 23, 15, 12, 10, 3, 2]\n",
    "data = pd.DataFrame([])\n",
    "data['buy_ice_cream'] = ice_cream\n",
    "data['temp'] = temp\n",
    "data"
   ]
  },
  {
   "cell_type": "markdown",
   "metadata": {},
   "source": [
    "Create an ice-cream dataset that explains the behaviour of a particular person in buying an ice-cream with temperature as its predictive attribute."
   ]
  },
  {
   "cell_type": "markdown",
   "metadata": {},
   "source": [
    "#### There are 3 link function that will be used here:\n",
    "- Logit\n",
    "- Complementary log-log\n",
    "- Probit"
   ]
  },
  {
   "cell_type": "markdown",
   "metadata": {},
   "source": [
    "## First Case: Set buy as positive (1) and no as negative (0)"
   ]
  },
  {
   "cell_type": "code",
   "execution_count": 80,
   "metadata": {},
   "outputs": [],
   "source": [
    "# turn the categorical label to nominal first\n",
    "y = data['buy_ice_cream'].apply(lambda x: 1 if x=='buy' else 0).values\n",
    "# add constant here is adding the b0 constant (1 in all rows in the first column)\n",
    "X = sm.add_constant(data['temp'])"
   ]
  },
  {
   "cell_type": "code",
   "execution_count": 81,
   "metadata": {},
   "outputs": [
    {
     "data": {
      "text/html": [
       "<div>\n",
       "<style scoped>\n",
       "    .dataframe tbody tr th:only-of-type {\n",
       "        vertical-align: middle;\n",
       "    }\n",
       "\n",
       "    .dataframe tbody tr th {\n",
       "        vertical-align: top;\n",
       "    }\n",
       "\n",
       "    .dataframe thead th {\n",
       "        text-align: right;\n",
       "    }\n",
       "</style>\n",
       "<table border=\"1\" class=\"dataframe\">\n",
       "  <thead>\n",
       "    <tr style=\"text-align: right;\">\n",
       "      <th></th>\n",
       "      <th>const</th>\n",
       "      <th>temp</th>\n",
       "    </tr>\n",
       "  </thead>\n",
       "  <tbody>\n",
       "    <tr>\n",
       "      <th>0</th>\n",
       "      <td>1.0</td>\n",
       "      <td>40</td>\n",
       "    </tr>\n",
       "    <tr>\n",
       "      <th>1</th>\n",
       "      <td>1.0</td>\n",
       "      <td>33</td>\n",
       "    </tr>\n",
       "    <tr>\n",
       "      <th>2</th>\n",
       "      <td>1.0</td>\n",
       "      <td>30</td>\n",
       "    </tr>\n",
       "    <tr>\n",
       "      <th>3</th>\n",
       "      <td>1.0</td>\n",
       "      <td>25</td>\n",
       "    </tr>\n",
       "    <tr>\n",
       "      <th>4</th>\n",
       "      <td>1.0</td>\n",
       "      <td>26</td>\n",
       "    </tr>\n",
       "  </tbody>\n",
       "</table>\n",
       "</div>"
      ],
      "text/plain": [
       "   const  temp\n",
       "0    1.0    40\n",
       "1    1.0    33\n",
       "2    1.0    30\n",
       "3    1.0    25\n",
       "4    1.0    26"
      ]
     },
     "execution_count": 81,
     "metadata": {},
     "output_type": "execute_result"
    }
   ],
   "source": [
    "X.head()"
   ]
  },
  {
   "cell_type": "markdown",
   "metadata": {},
   "source": [
    "#### Logit"
   ]
  },
  {
   "cell_type": "markdown",
   "metadata": {},
   "source": [
    "$$ \\eta = log(\\frac{p}{1-p}) $$\n",
    "$$ p = \\frac{exp(\\eta)}{1+exp(\\eta)}$$"
   ]
  },
  {
   "cell_type": "code",
   "execution_count": 82,
   "metadata": {},
   "outputs": [
    {
     "name": "stderr",
     "output_type": "stream",
     "text": [
      "/Users/nathanaelyoewono/anaconda3/lib/python3.6/site-packages/ipykernel_launcher.py:1: DeprecationWarning: Calling Family(..) with a link class as argument is deprecated.\n",
      "Use an instance of a link class instead.\n",
      "  \"\"\"Entry point for launching an IPython kernel.\n"
     ]
    }
   ],
   "source": [
    "binom_logit = sm.GLM(y, X, family=sm.families.Binomial(link=sm.families.links.logit))\n",
    "results_logit = binom_logit.fit()"
   ]
  },
  {
   "cell_type": "code",
   "execution_count": 83,
   "metadata": {},
   "outputs": [
    {
     "name": "stdout",
     "output_type": "stream",
     "text": [
      "                 Generalized Linear Model Regression Results                  \n",
      "==============================================================================\n",
      "Dep. Variable:                      y   No. Observations:                   11\n",
      "Model:                            GLM   Df Residuals:                        9\n",
      "Model Family:                Binomial   Df Model:                            1\n",
      "Link Function:                  logit   Scale:                          1.0000\n",
      "Method:                          IRLS   Log-Likelihood:                -2.6461\n",
      "Date:                Wed, 07 Oct 2020   Deviance:                       5.2922\n",
      "Time:                        20:22:42   Pearson chi2:                     4.81\n",
      "No. Iterations:                     7                                         \n",
      "Covariance Type:            nonrobust                                         \n",
      "==============================================================================\n",
      "                 coef    std err          z      P>|z|      [0.025      0.975]\n",
      "------------------------------------------------------------------------------\n",
      "const         -8.0131      5.937     -1.350      0.177     -19.649       3.623\n",
      "temp           0.3540      0.243      1.454      0.146      -0.123       0.831\n",
      "==============================================================================\n"
     ]
    }
   ],
   "source": [
    "print(results_logit.summary())"
   ]
  },
  {
   "cell_type": "code",
   "execution_count": 84,
   "metadata": {},
   "outputs": [
    {
     "name": "stdout",
     "output_type": "stream",
     "text": [
      "Parameter Result: \n",
      "b0: -8.013093042909896\n",
      "b1: 0.3540232537745974\n"
     ]
    }
   ],
   "source": [
    "b0_logit, b1_logit = results_logit.params.values\n",
    "print('Parameter Result: ')\n",
    "print('b0:', b0_logit)\n",
    "print('b1:', b1_logit)"
   ]
  },
  {
   "cell_type": "markdown",
   "metadata": {},
   "source": [
    "#### Complementary log-log\n",
    "$$ \\eta = log(-log(1-p)) $$\n",
    "$$ p = 1-exp(e^{\\eta})$$"
   ]
  },
  {
   "cell_type": "code",
   "execution_count": 85,
   "metadata": {},
   "outputs": [
    {
     "name": "stderr",
     "output_type": "stream",
     "text": [
      "/Users/nathanaelyoewono/anaconda3/lib/python3.6/site-packages/ipykernel_launcher.py:1: DeprecationWarning: Calling Family(..) with a link class as argument is deprecated.\n",
      "Use an instance of a link class instead.\n",
      "  \"\"\"Entry point for launching an IPython kernel.\n"
     ]
    }
   ],
   "source": [
    "binom_cloglog = sm.GLM(y, X, family=sm.families.Binomial(link=sm.families.links.cloglog))\n",
    "results_cloglog = binom_cloglog.fit()"
   ]
  },
  {
   "cell_type": "code",
   "execution_count": 86,
   "metadata": {},
   "outputs": [
    {
     "name": "stdout",
     "output_type": "stream",
     "text": [
      "                 Generalized Linear Model Regression Results                  \n",
      "==============================================================================\n",
      "Dep. Variable:                      y   No. Observations:                   11\n",
      "Model:                            GLM   Df Residuals:                        9\n",
      "Model Family:                Binomial   Df Model:                            1\n",
      "Link Function:                cloglog   Scale:                          1.0000\n",
      "Method:                          IRLS   Log-Likelihood:                -2.7126\n",
      "Date:                Wed, 07 Oct 2020   Deviance:                       5.4251\n",
      "Time:                        20:23:03   Pearson chi2:                     4.53\n",
      "No. Iterations:                     8                                         \n",
      "Covariance Type:            nonrobust                                         \n",
      "==============================================================================\n",
      "                 coef    std err          z      P>|z|      [0.025      0.975]\n",
      "------------------------------------------------------------------------------\n",
      "const         -6.0431      3.940     -1.534      0.125     -13.766       1.680\n",
      "temp           0.2416      0.155      1.560      0.119      -0.062       0.545\n",
      "==============================================================================\n"
     ]
    }
   ],
   "source": [
    "print(results_cloglog.summary())"
   ]
  },
  {
   "cell_type": "code",
   "execution_count": 87,
   "metadata": {},
   "outputs": [
    {
     "name": "stdout",
     "output_type": "stream",
     "text": [
      "Parameter Result: \n",
      "b0: -6.043087002687001\n",
      "b1: 0.2416020667944327\n"
     ]
    }
   ],
   "source": [
    "b0_cloglog, b1_cloglog = results_cloglog.params.values\n",
    "print('Parameter Result: ')\n",
    "print('b0:', b0_cloglog)\n",
    "print('b1:', b1_cloglog)"
   ]
  },
  {
   "cell_type": "markdown",
   "metadata": {},
   "source": [
    "#### Probit:\n",
    "$$ \\eta = \\phi^{-1}(p) $$\n",
    "$$ p = \\phi(\\eta)$$\n",
    "\n",
    "$\\phi$ here is the cumulative distribution function (cdf) of the standard normal distribution (Z ~ N(0, 1))\n",
    "\n",
    "$$ \\phi(x) = P(Z \\leq x) = \\frac{erf(\\frac{x}{\\sqrt{2}}+1)}{2} $$\n",
    "erf = Gaussian error function (https://en.wikipedia.org/wiki/Error_function)"
   ]
  },
  {
   "cell_type": "code",
   "execution_count": 88,
   "metadata": {},
   "outputs": [
    {
     "name": "stderr",
     "output_type": "stream",
     "text": [
      "/Users/nathanaelyoewono/anaconda3/lib/python3.6/site-packages/ipykernel_launcher.py:1: DeprecationWarning: Calling Family(..) with a link class as argument is deprecated.\n",
      "Use an instance of a link class instead.\n",
      "  \"\"\"Entry point for launching an IPython kernel.\n"
     ]
    }
   ],
   "source": [
    "binom_probit = sm.GLM(y, X, family=sm.families.Binomial(link=sm.families.links.probit))\n",
    "results_probit = binom_probit.fit()"
   ]
  },
  {
   "cell_type": "code",
   "execution_count": 89,
   "metadata": {},
   "outputs": [
    {
     "name": "stdout",
     "output_type": "stream",
     "text": [
      "                 Generalized Linear Model Regression Results                  \n",
      "==============================================================================\n",
      "Dep. Variable:                      y   No. Observations:                   11\n",
      "Model:                            GLM   Df Residuals:                        9\n",
      "Model Family:                Binomial   Df Model:                            1\n",
      "Link Function:                 probit   Scale:                          1.0000\n",
      "Method:                          IRLS   Log-Likelihood:                -2.5826\n",
      "Date:                Wed, 07 Oct 2020   Deviance:                       5.1651\n",
      "Time:                        20:23:21   Pearson chi2:                     4.61\n",
      "No. Iterations:                     9                                         \n",
      "Covariance Type:            nonrobust                                         \n",
      "==============================================================================\n",
      "                 coef    std err          z      P>|z|      [0.025      0.975]\n",
      "------------------------------------------------------------------------------\n",
      "const         -4.7260      3.138     -1.506      0.132     -10.877       1.425\n",
      "temp           0.2084      0.128      1.622      0.105      -0.043       0.460\n",
      "==============================================================================\n"
     ]
    }
   ],
   "source": [
    "print(results_probit.summary())"
   ]
  },
  {
   "cell_type": "code",
   "execution_count": 90,
   "metadata": {},
   "outputs": [
    {
     "name": "stdout",
     "output_type": "stream",
     "text": [
      "Parameter Result: \n",
      "b0: -4.725956888274586\n",
      "b1: 0.20836955682493538\n"
     ]
    }
   ],
   "source": [
    "b0_probit, b1_probit = results_probit.params.values\n",
    "print('Parameter Result: ')\n",
    "print('b0:', b0_probit)\n",
    "print('b1:', b1_probit)"
   ]
  },
  {
   "cell_type": "markdown",
   "metadata": {},
   "source": [
    "### Plot result"
   ]
  },
  {
   "cell_type": "code",
   "execution_count": 91,
   "metadata": {},
   "outputs": [],
   "source": [
    "def eta(b0, b1, x):\n",
    "    return b0+b1*x"
   ]
  },
  {
   "cell_type": "code",
   "execution_count": 92,
   "metadata": {},
   "outputs": [],
   "source": [
    "# get one prediction too\n",
    "check_temp = 29\n",
    "pred_logit = np.exp(eta(b0_logit, b1_logit, check_temp))/(1+np.exp(eta(b0_logit, b1_logit, check_temp)))\n",
    "pred_cloglog = 1-np.exp(-1*np.exp(eta(b0_cloglog, b1_cloglog, check_temp)))\n",
    "pred_probit = norm.cdf(eta(b0_probit, b1_probit, check_temp))"
   ]
  },
  {
   "cell_type": "code",
   "execution_count": 93,
   "metadata": {},
   "outputs": [
    {
     "data": {
      "image/png": "[encoded data removed]",
      "text/plain": [
       "<Figure size 864x576 with 1 Axes>"
      ]
     },
     "metadata": {
      "needs_background": "light"
     },
     "output_type": "display_data"
    }
   ],
   "source": [
    "plt.figure(figsize=(12, 8))\n",
    "x = np.linspace(0, 40)\n",
    "\n",
    "# data points\n",
    "plt.scatter(x=X.temp, y=y)\n",
    "\n",
    "# logit\n",
    "eta_logit = eta(b0_logit, b1_logit, x)\n",
    "p_logit = np.exp(eta_logit)/(1+np.exp(eta_logit))\n",
    "plt.plot(x, p_logit, label='logit', c='b')\n",
    "\n",
    "# cloglog\n",
    "eta_cloglog = eta(b0_cloglog, b1_cloglog, x)\n",
    "p_cloglog = 1-np.exp(-1*np.exp(eta_cloglog))\n",
    "plt.plot(x, p_cloglog, label='cloglog', c='g')\n",
    "\n",
    "# probit\n",
    "eta_probit =eta(b0_probit, b1_probit, x)\n",
    "p_probit = norm.cdf(eta_probit)\n",
    "plt.plot(x, p_probit, label='probit', c='orange')\n",
    "\n",
    "plt.scatter(check_temp, pred_logit, c='b')\n",
    "plt.scatter(check_temp, pred_cloglog, c='g')\n",
    "plt.scatter(check_temp, pred_probit, c='orange')\n",
    "\n",
    "plt.annotate(f'logit prediction: {round(pred_logit, 3)},\\n temp: {check_temp}', xy=(check_temp, pred_logit), \n",
    "             xytext=(32, pred_logit-0.1), \n",
    "             arrowprops=dict(facecolor='blue', shrink=0.05))\n",
    "plt.annotate(f'probit prediction: {round(pred_probit, 3)},\\n temp: {check_temp}', xy=(check_temp, pred_probit), \n",
    "             xytext=(32, pred_probit), \n",
    "             arrowprops=dict(facecolor='orange', shrink=0.05))\n",
    "plt.annotate(f'logit prediction: {round(pred_cloglog, 3)},\\n temp: {check_temp}', xy=(check_temp, pred_cloglog), \n",
    "             xytext=(16, pred_cloglog-0.1), \n",
    "             arrowprops=dict(facecolor='green', shrink=0.05))\n",
    "\n",
    "plt.legend(loc='lower right')\n",
    "plt.title('First Case Binomial Regression')\n",
    "plt.show()"
   ]
  },
  {
   "cell_type": "markdown",
   "metadata": {},
   "source": [
    "Notice that each link function may have different curve, where cloglog may have the steepest curve compared to the other link function. Each link function prediction also have different result. It seems the annotated outliers in temperature 26 may produce different behaviour in each link function."
   ]
  },
  {
   "cell_type": "markdown",
   "metadata": {},
   "source": [
    "## Second Case: Set buy as positive (0) and no as negative (1)"
   ]
  },
  {
   "cell_type": "code",
   "execution_count": 95,
   "metadata": {},
   "outputs": [],
   "source": [
    "y = data['buy_ice_cream'].apply(lambda x: 0 if x=='buy' else 1).values"
   ]
  },
  {
   "cell_type": "code",
   "execution_count": 96,
   "metadata": {},
   "outputs": [
    {
     "name": "stderr",
     "output_type": "stream",
     "text": [
      "/Users/nathanaelyoewono/anaconda3/lib/python3.6/site-packages/ipykernel_launcher.py:1: DeprecationWarning: Calling Family(..) with a link class as argument is deprecated.\n",
      "Use an instance of a link class instead.\n",
      "  \"\"\"Entry point for launching an IPython kernel.\n",
      "/Users/nathanaelyoewono/anaconda3/lib/python3.6/site-packages/ipykernel_launcher.py:5: DeprecationWarning: Calling Family(..) with a link class as argument is deprecated.\n",
      "Use an instance of a link class instead.\n",
      "  \"\"\"\n",
      "/Users/nathanaelyoewono/anaconda3/lib/python3.6/site-packages/statsmodels/genmod/families/family.py:890: RuntimeWarning: invalid value encountered in true_divide\n",
      "  n_endog_mu = self._clean((1. - endog) / (1. - mu))\n",
      "/Users/nathanaelyoewono/anaconda3/lib/python3.6/site-packages/ipykernel_launcher.py:9: DeprecationWarning: Calling Family(..) with a link class as argument is deprecated.\n",
      "Use an instance of a link class instead.\n",
      "  if __name__ == '__main__':\n"
     ]
    }
   ],
   "source": [
    "binom_logit_2 = sm.GLM(y, X, family=sm.families.Binomial(link=sm.families.links.logit))\n",
    "results_logit_2 = binom_logit_2.fit()\n",
    "b0_logit_2, b1_logit_2 = results_logit_2.params.values\n",
    "\n",
    "binom_cloglog_2 = sm.GLM(y, X, family=sm.families.Binomial(link=sm.families.links.cloglog))\n",
    "results_cloglog_2 = binom_cloglog_2.fit()\n",
    "b0_cloglog_2, b1_cloglog_2 = results_cloglog_2.params.values\n",
    "\n",
    "binom_probit_2 = sm.GLM(y, X, family=sm.families.Binomial(link=sm.families.links.probit))\n",
    "results_probit_2 = binom_probit_2.fit()\n",
    "b0_probit_2, b1_probit_2 = results_probit_2.params.values"
   ]
  },
  {
   "cell_type": "code",
   "execution_count": 97,
   "metadata": {},
   "outputs": [],
   "source": [
    "# get one prediction too\n",
    "check_temp = 29\n",
    "pred_logit_2 = np.exp(eta(b0_logit_2, b1_logit_2, check_temp))/(1+np.exp(eta(b0_logit_2, b1_logit_2, check_temp)))\n",
    "pred_cloglog_2 = 1-np.exp(-1*np.exp(eta(b0_cloglog_2, b1_cloglog_2, check_temp)))\n",
    "pred_probit_2 = norm.cdf(eta(b0_probit_2, b1_probit_2, check_temp))"
   ]
  },
  {
   "cell_type": "code",
   "execution_count": 104,
   "metadata": {},
   "outputs": [
    {
     "data": {
      "image/png": "[encoded data removed]",
      "text/plain": [
       "<Figure size 864x576 with 1 Axes>"
      ]
     },
     "metadata": {
      "needs_background": "light"
     },
     "output_type": "display_data"
    }
   ],
   "source": [
    "plt.figure(figsize=(12, 8))\n",
    "x = np.linspace(0, 40)\n",
    "\n",
    "# data points\n",
    "plt.scatter(x=X.temp, y=y)\n",
    "\n",
    "# logit\n",
    "eta_logit = eta(b0_logit_2, b1_logit_2, x)\n",
    "p_logit = np.exp(eta_logit)/(1+np.exp(eta_logit))\n",
    "plt.plot(x, p_logit, label='logit', c='b')\n",
    "\n",
    "# cloglog\n",
    "eta_cloglog = eta(b0_cloglog_2, b1_cloglog_2, x)\n",
    "p_cloglog = 1-np.exp(-1*np.exp(eta_cloglog))\n",
    "plt.plot(x, p_cloglog, label='cloglog', c='g')\n",
    "\n",
    "# probit\n",
    "eta_probit = eta(b0_probit_2, b1_probit_2, x)\n",
    "p_probit = norm.cdf(eta_probit)\n",
    "plt.plot(x, p_probit, label='probit', c='orange')\n",
    "\n",
    "plt.scatter(check_temp, pred_logit_2, c='b')\n",
    "plt.scatter(check_temp, pred_cloglog_2, c='g')\n",
    "plt.scatter(check_temp, pred_probit_2, c='orange')\n",
    "\n",
    "plt.annotate(f'logit prediction: {round(pred_logit_2, 3)},\\n temp: {check_temp}', xy=(check_temp, pred_logit_2), \n",
    "             xytext=(32, pred_logit_2+0.15), \n",
    "             arrowprops=dict(facecolor='blue', shrink=0.05))\n",
    "plt.annotate(f'probit prediction: {round(pred_probit_2, 3)},\\n temp: {check_temp}', xy=(check_temp, pred_probit_2), \n",
    "             xytext=(32, pred_probit_2), \n",
    "             arrowprops=dict(facecolor='orange', shrink=0.05))\n",
    "plt.annotate(f'logit prediction: {round(pred_cloglog_2, 3)},\\n temp: {check_temp}', xy=(check_temp, pred_cloglog_2), \n",
    "             xytext=(16, pred_cloglog_2+0.1), \n",
    "             arrowprops=dict(facecolor='green', shrink=0.05))\n",
    "\n",
    "plt.legend(loc='upper right')\n",
    "plt.title('Second Case Binomial Regression')\n",
    "plt.show()"
   ]
  },
  {
   "cell_type": "markdown",
   "metadata": {},
   "source": [
    "Intuitively, the probability should just be 1-p(case=1). To be sure, let's check the value."
   ]
  },
  {
   "cell_type": "code",
   "execution_count": 106,
   "metadata": {},
   "outputs": [
    {
     "data": {
      "text/html": [
       "<div>\n",
       "<style scoped>\n",
       "    .dataframe tbody tr th:only-of-type {\n",
       "        vertical-align: middle;\n",
       "    }\n",
       "\n",
       "    .dataframe tbody tr th {\n",
       "        vertical-align: top;\n",
       "    }\n",
       "\n",
       "    .dataframe thead th {\n",
       "        text-align: right;\n",
       "    }\n",
       "</style>\n",
       "<table border=\"1\" class=\"dataframe\">\n",
       "  <thead>\n",
       "    <tr style=\"text-align: right;\">\n",
       "      <th></th>\n",
       "      <th>Case_1</th>\n",
       "      <th>Case_2</th>\n",
       "    </tr>\n",
       "  </thead>\n",
       "  <tbody>\n",
       "    <tr>\n",
       "      <th>Logit</th>\n",
       "      <td>0.904959</td>\n",
       "      <td>0.904959</td>\n",
       "    </tr>\n",
       "    <tr>\n",
       "      <th>Cloglog</th>\n",
       "      <td>0.927235</td>\n",
       "      <td>0.888430</td>\n",
       "    </tr>\n",
       "    <tr>\n",
       "      <th>Probit</th>\n",
       "      <td>0.906041</td>\n",
       "      <td>0.906041</td>\n",
       "    </tr>\n",
       "  </tbody>\n",
       "</table>\n",
       "</div>"
      ],
      "text/plain": [
       "           Case_1    Case_2\n",
       "Logit    0.904959  0.904959\n",
       "Cloglog  0.927235  0.888430\n",
       "Probit   0.906041  0.906041"
      ]
     },
     "execution_count": 106,
     "metadata": {},
     "output_type": "execute_result"
    }
   ],
   "source": [
    "p_case_1 = [pred_logit, pred_cloglog, pred_probit]\n",
    "p_case_2 = [1-pred_logit_2, 1-pred_cloglog_2, 1-pred_probit_2]\n",
    "df = pd.DataFrame([])\n",
    "df['Case_1'] = p_case_1\n",
    "df['Case_2'] = p_case_2\n",
    "df.index = ['Logit', 'Cloglog', 'Probit']\n",
    "df"
   ]
  },
  {
   "cell_type": "markdown",
   "metadata": {},
   "source": [
    "As you can see, the probability change when using the cloglog as the link function. Thus, changing the definition of success in cloglog may result in different probability. This is one of Cloglog's drawback."
   ]
  },
  {
   "cell_type": "markdown",
   "metadata": {},
   "source": [
    "### Conclusion:\n",
    "- Cloglog's curve may be more steeper compared to the other link function.\n",
    "- Probit and logit may have similar curve form. (https://www.johndcook.com/blog/2010/05/18/normal-approximation-to-logistic/)\n",
    "- Changing the definition of success in cloglog may change the result of the estimated y-values.\n",
    "- All of these link function have similar prediction result (each deviation may not be significant).\n",
    "- If in doubt, just use logit function :)"
   ]
  }
 ],
 "metadata": {
  "kernelspec": {
   "display_name": "Python 3",
   "language": "python",
   "name": "python3"
  },
  "language_info": {
   "codemirror_mode": {
    "name": "ipython",
    "version": 3
   },
   "file_extension": ".py",
   "mimetype": "text/x-python",
   "name": "python",
   "nbconvert_exporter": "python",
   "pygments_lexer": "ipython3",
   "version": "3.6.7"
  }
 },
 "nbformat": 4,
 "nbformat_minor": 2
}
